{
 "cells": [
  {
   "cell_type": "code",
   "execution_count": 1,
   "metadata": {},
   "outputs": [
    {
     "name": "stdout",
     "output_type": "stream",
     "text": [
      "Ultralytics YOLOv8.1.26 🚀 Python-3.11.9 torch-2.2.0+cu121 CUDA:0 (NVIDIA GeForce RTX 2080 Ti, 11012MiB)\n",
      "Setup complete ✅ (16 CPUs, 125.5 GB RAM, 585.1/914.8 GB disk)\n"
     ]
    }
   ],
   "source": [
    "import ultralytics\n",
    "import cv2\n",
    "from ultralytics import YOLO\n",
    "ultralytics.checks()\n",
    "import matplotlib.pyplot as plt\n",
    "from detection import *\n",
    "\n",
    "%matplotlib inline\n"
   ]
  },
  {
   "cell_type": "code",
   "execution_count": 2,
   "metadata": {},
   "outputs": [],
   "source": [
    "model = \"../models/best_yolov8_visdrone207212.pt\"\n",
    "model = YOLO(model)"
   ]
  },
  {
   "cell_type": "code",
   "execution_count": 3,
   "metadata": {},
   "outputs": [],
   "source": [
    "results = model.track(source=\"../assets/180/180_vid_destb.mp4\", conf=0.5, iou=0.5, tracker=\"bytetrack.yaml\", stream=True)\n",
    "cap = cv2.VideoCapture(\"../assets/180/180_vid_destb.mp4\")"
   ]
  },
  {
   "cell_type": "code",
   "execution_count": 4,
   "metadata": {},
   "outputs": [],
   "source": [
    "# for result in results:\n",
    "#     boxes = result.boxes  # Boxes object for bounding box outputs\n",
    "#     ret, frame = cap.read()\n",
    "#     if ret:\n",
    "#         # draw center of bounding box and the id and type of the object\n",
    "#         for i in range(len(boxes)):\n",
    "#             x, y = boxes[i].xywh[0,:2]\n",
    "#             cv2.circle(frame, (int(x), int(y)), 5, (255, 0, 0), -1)\n",
    "#             cv2.putText(frame, f\"{int(boxes[i].id[0])} \", (int(x), int(y - 5)), cv2.FONT_HERSHEY_SIMPLEX, 1, (255, 100, 0), 2)\n",
    "#             cv2.putText(frame, f\"{int(boxes[i].cls[0])} \", (int(x), int(y + 25)), cv2.FONT_HERSHEY_SIMPLEX, 1, (0, 100, 255), 2)\n",
    "#         # use plt to show the frame\n",
    "#         fig = plt.figure(figsize=(12, 12))\n",
    "#         plt.imshow(frame)\n",
    "#         plt.show()\n",
    "#     break\n"
   ]
  },
  {
   "cell_type": "code",
   "execution_count": 5,
   "metadata": {},
   "outputs": [
    {
     "name": "stdout",
     "output_type": "stream",
     "text": [
      "Ultralytics YOLOv8.1.26 🚀 Python-3.11.9 torch-2.2.0+cu121 CUDA:0 (NVIDIA GeForce RTX 2080 Ti, 11012MiB)\n",
      "Setup complete ✅ (16 CPUs, 125.5 GB RAM, 585.1/914.8 GB disk)\n"
     ]
    }
   ],
   "source": [
    "detection = DetectionModel( \"../assets/180/180_vid_destb.mp4\")"
   ]
  },
  {
   "cell_type": "code",
   "execution_count": 6,
   "metadata": {},
   "outputs": [
    {
     "name": "stdout",
     "output_type": "stream",
     "text": [
      "\n",
      "video 1/1 (frame 1/1200) /home/engine2/engine/UAV_Georeferencing/app/../assets/180/180_vid_destb.mp4: 384x640 1 bus, 158 cars, 2 trucks, 14 vans, 61.3ms\n",
      "torch.Size([175])\n",
      "torch.Size([175])\n"
     ]
    },
    {
     "ename": "AttributeError",
     "evalue": "'list' object has no attribute 'shape'",
     "output_type": "error",
     "traceback": [
      "\u001b[0;31m---------------------------------------------------------------------------\u001b[0m",
      "\u001b[0;31mAttributeError\u001b[0m                            Traceback (most recent call last)",
      "Cell \u001b[0;32mIn[6], line 4\u001b[0m\n\u001b[1;32m      2\u001b[0m \u001b[38;5;28mprint\u001b[39m(detection\u001b[38;5;241m.\u001b[39mget_class()\u001b[38;5;241m.\u001b[39mshape)\n\u001b[1;32m      3\u001b[0m \u001b[38;5;28mprint\u001b[39m(detection\u001b[38;5;241m.\u001b[39mget_id()\u001b[38;5;241m.\u001b[39mshape)\n\u001b[0;32m----> 4\u001b[0m \u001b[38;5;28mprint\u001b[39m(\u001b[43mdetection\u001b[49m\u001b[38;5;241;43m.\u001b[39;49m\u001b[43mget_coordinate\u001b[49m\u001b[43m(\u001b[49m\u001b[43m)\u001b[49m\u001b[38;5;241;43m.\u001b[39;49m\u001b[43mshape\u001b[49m)\n\u001b[1;32m      5\u001b[0m \u001b[38;5;28mprint\u001b[39m(detection\u001b[38;5;241m.\u001b[39mget_confidence()\u001b[38;5;241m.\u001b[39mshape)\n",
      "\u001b[0;31mAttributeError\u001b[0m: 'list' object has no attribute 'shape'"
     ]
    }
   ],
   "source": [
    "detection.next_frame()\n",
    "print(detection.get_class().shape)\n",
    "print(detection.get_id().shape)\n",
    "print(detection.get_coordinate())\n",
    "print(detection.get_confidence().shape)"
   ]
  }
 ],
 "metadata": {
  "kernelspec": {
   "display_name": "yolov8",
   "language": "python",
   "name": "python3"
  },
  "language_info": {
   "codemirror_mode": {
    "name": "ipython",
    "version": 3
   },
   "file_extension": ".py",
   "mimetype": "text/x-python",
   "name": "python",
   "nbconvert_exporter": "python",
   "pygments_lexer": "ipython3",
   "version": "3.11.9"
  }
 },
 "nbformat": 4,
 "nbformat_minor": 2
}
